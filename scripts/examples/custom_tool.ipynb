{
 "cells": [
  {
   "cell_type": "markdown",
   "id": "b34f334a",
   "metadata": {},
   "source": [
    "# Custom Tool: \n",
    "\n",
    "<a href=\"https://www.youtube.com/watch?v=q-HNphrWsDE\">YouTube link:</a> \n",
    "\n",
    "10:17: Change Prompt for agent. \n",
    "\n",
    "15:40: Create the access to another deep learning model by using custom tool. "
   ]
  },
  {
   "cell_type": "markdown",
   "id": "199bea49",
   "metadata": {},
   "source": [
    "#### What about tensorflow deep leaning model as tool? Pass the data and analyze with deep learning model to get answer the question or output the result with explanation like scientist or mathmatician tells to the public."
   ]
  },
  {
   "cell_type": "code",
   "execution_count": null,
   "id": "a1258897",
   "metadata": {},
   "outputs": [],
   "source": []
  }
 ],
 "metadata": {
  "kernelspec": {
   "display_name": "Python 3 (ipykernel)",
   "language": "python",
   "name": "python3"
  },
  "language_info": {
   "codemirror_mode": {
    "name": "ipython",
    "version": 3
   },
   "file_extension": ".py",
   "mimetype": "text/x-python",
   "name": "python",
   "nbconvert_exporter": "python",
   "pygments_lexer": "ipython3",
   "version": "3.9.12"
  }
 },
 "nbformat": 4,
 "nbformat_minor": 5
}
