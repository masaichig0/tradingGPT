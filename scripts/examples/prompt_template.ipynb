{
 "cells": [
  {
   "cell_type": "markdown",
   "id": "a9c22bc7",
   "metadata": {},
   "source": [
    "## First to demonstrate chat template:\n",
    "\n"
   ]
  },
  {
   "cell_type": "code",
   "execution_count": 1,
   "id": "d99077ad",
   "metadata": {},
   "outputs": [],
   "source": [
    "from langchain.prompts import (\n",
    "    ChatPromptTemplate,\n",
    "    PromptTemplate,\n",
    "    SystemMessagePromptTemplate,\n",
    "    AIMessagePromptTemplate,\n",
    "    HumanMessagePromptTemplate,\n",
    ")\n",
    "from langchain.schema import (\n",
    "    AIMessage,\n",
    "    HumanMessage,\n",
    "    SystemMessage\n",
    ")"
   ]
  },
  {
   "cell_type": "code",
   "execution_count": 20,
   "id": "860f1c65",
   "metadata": {},
   "outputs": [],
   "source": [
    "template = \"You are felpful AI assistant and expert in {job_title} and geart entertainer. Your job is answer the question to \\\n",
    "the news I  provide: \\\n",
    "News: {news}. \\\n",
    "\\\n",
    "You use your expertise and knowledge to answer question with entertainment pourpose. \"\n",
    "prompt = PromptTemplate(template=template, input_variables=[\"job_title\", \"news\"])\n",
    "system_message_proomt = SystemMessagePromptTemplate(prompt=prompt)\n",
    "human_template = \"{text}\"\n",
    "human_message_prompt = HumanMessagePromptTemplate.from_template(human_template)"
   ]
  },
  {
   "cell_type": "code",
   "execution_count": 21,
   "id": "f2674fc5",
   "metadata": {},
   "outputs": [
    {
     "data": {
      "text/plain": [
       "[SystemMessage(content='You are felpful AI assistant and expert in financial analyst and geart entertainer. Your job is answer the question to the news I  provide: News: NVIDIA Corporation (NVDA) is a global technology leader specializing in the design and manufacturing of graphics processing units (GPUs). In fact, these have become instrumental in AI, machine learning, and deep learning applications. The company’s cutting-edge technology and expanding product portfolio have positioned it as a key player in the AI industry.\\n\\nLast month, NVIDIA announced that Google Cloud will use their latest L4 GPU and Vertex AI to speed up the creation of AI applications. Google Cloud will offer these new GPUs with improved support in Vertex AI, helping developers launch applications faster and more affordably. The L4 GPU has better video abilities, is 120 times more powerful than regular computer chips, and uses 99% less energy.\\n\\nSince the start of 2023, shares of NVIDIA stock are surged by 88.88% year-to-date.. You use your expertise and knowledge to answer question with entertainment pourpose. ', additional_kwargs={}),\n",
       " HumanMessage(content='Please provide me a usage examples about it.', additional_kwargs={})]"
      ]
     },
     "execution_count": 21,
     "metadata": {},
     "output_type": "execute_result"
    }
   ],
   "source": [
    "chat_prompt = ChatPromptTemplate.from_messages([system_message_proomt, human_message_prompt])\n",
    "chat_prompt.format_prompt(job_title=\"financial analyst\", \n",
    "                          news=\"NVIDIA Corporation (NVDA) is a global technology leader specializing in the design and manufacturing of graphics processing units (GPUs). In fact, these have become instrumental in AI, machine learning, and deep learning applications. The company’s cutting-edge technology and expanding product portfolio have positioned it as a key player in the AI industry.\\n\\nLast month, NVIDIA announced that Google Cloud will use their latest L4 GPU and Vertex AI to speed up the creation of AI applications. Google Cloud will offer these new GPUs with improved support in Vertex AI, helping developers launch applications faster and more affordably. The L4 GPU has better video abilities, is 120 times more powerful than regular computer chips, and uses 99% less energy.\\n\\nSince the start of 2023, shares of NVIDIA stock are surged by 88.88% year-to-date.\", \n",
    "                         text=\"Please provide me a usage examples about it.\").to_messages()"
   ]
  },
  {
   "cell_type": "code",
   "execution_count": null,
   "id": "2af917ae",
   "metadata": {},
   "outputs": [],
   "source": []
  }
 ],
 "metadata": {
  "kernelspec": {
   "display_name": "Python 3 (ipykernel)",
   "language": "python",
   "name": "python3"
  },
  "language_info": {
   "codemirror_mode": {
    "name": "ipython",
    "version": 3
   },
   "file_extension": ".py",
   "mimetype": "text/x-python",
   "name": "python",
   "nbconvert_exporter": "python",
   "pygments_lexer": "ipython3",
   "version": "3.9.12"
  }
 },
 "nbformat": 4,
 "nbformat_minor": 5
}
