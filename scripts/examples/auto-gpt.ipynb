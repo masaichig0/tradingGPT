{
 "cells": [
  {
   "cell_type": "markdown",
   "id": "cd35ac5b",
   "metadata": {},
   "source": [
    "# AutoGPT"
   ]
  },
  {
   "cell_type": "markdown",
   "id": "e6686f80",
   "metadata": {},
   "source": [
    "# Set up Tools"
   ]
  },
  {
   "cell_type": "code",
   "execution_count": 1,
   "id": "ca7cdc6d",
   "metadata": {},
   "outputs": [],
   "source": [
    "from langchain.utilities import SerpAPIWrapper\n",
    "from langchain.agents import Tool\n",
    "from langchain.tools.file_management.write import WriteFileTool\n",
    "from langchain.tools.file_management.read import ReadFileTool\n",
    "\n",
    "search = SerpAPIWrapper()\n",
    "tools = [\n",
    "    Tool(\n",
    "        name = \"search\",\n",
    "        func=search.run,\n",
    "        description=\"useful for when you need to answer questions about current events. You should ask targeted questions\"\n",
    "    ),\n",
    "    WriteFileTool(),\n",
    "    ReadFileTool(),\n",
    "]"
   ]
  },
  {
   "cell_type": "markdown",
   "id": "2a3e39c7",
   "metadata": {},
   "source": [
    "# Set up memory"
   ]
  },
  {
   "cell_type": "code",
   "execution_count": 2,
   "id": "f813948a",
   "metadata": {},
   "outputs": [],
   "source": [
    "from langchain.vectorstores import Pinecone\n",
    "from langchain.docstore import InMemoryDocstore\n",
    "from langchain.embeddings import OpenAIEmbeddings"
   ]
  },
  {
   "cell_type": "code",
   "execution_count": 3,
   "id": "bb49ba86",
   "metadata": {},
   "outputs": [
    {
     "name": "stderr",
     "output_type": "stream",
     "text": [
      "C:\\Users\\Masa\\anaconda3\\lib\\site-packages\\pinecone\\index.py:4: TqdmExperimentalWarning: Using `tqdm.autonotebook.tqdm` in notebook mode. Use `tqdm.tqdm` instead to force console mode (e.g. in jupyter console)\n",
      "  from tqdm.autonotebook import tqdm\n"
     ]
    },
    {
     "data": {
      "text/plain": [
       "IndexDescription(name='test', metric='cosine', replicas=1, dimension=1536.0, shards=1, pods=1, pod_type='p1.x1', status={'ready': True, 'state': 'Ready'}, metadata_config=None, source_collection='')"
      ]
     },
     "execution_count": 3,
     "metadata": {},
     "output_type": "execute_result"
    }
   ],
   "source": [
    "# Define your embedding model\n",
    "embeddings_model = OpenAIEmbeddings()\n",
    "# Initialize the vectorstore as empty\n",
    "import pinecone\n",
    "from tqdm.autonotebook import tqdm\n",
    "import os\n",
    "\n",
    "pinecone.init(\n",
    "    api_key=os.environ.get(\"PINECONE_API_KEY\"),  # find at app.pinecone.io\n",
    "    environment= \"us-east4-gcp\"  # next to api key in console\n",
    ")\n",
    "\n",
    "index_name = \"test\"\n",
    "\n",
    "# If create new index, \n",
    "#pinecone.create_index(index_name=index_name,\n",
    "#                     dimension=1536,\n",
    "#                     metric='cosine', \n",
    "#                     pod_type=\"p1.x1\")\n",
    "\n",
    "pinecone.describe_index(index_name)"
   ]
  },
  {
   "cell_type": "code",
   "execution_count": 9,
   "id": "98acab37",
   "metadata": {},
   "outputs": [
    {
     "data": {
      "text/plain": [
       "{'dimension': 1536,\n",
       " 'index_fullness': 0.0,\n",
       " 'namespaces': {},\n",
       " 'total_vector_count': 0}"
      ]
     },
     "execution_count": 9,
     "metadata": {},
     "output_type": "execute_result"
    }
   ],
   "source": [
    "# Connect to the index\n",
    "index = pinecone.Index(index_name)\n",
    "index.describe_index_stats()"
   ]
  },
  {
   "cell_type": "code",
   "execution_count": 13,
   "id": "b9edf85a",
   "metadata": {},
   "outputs": [],
   "source": [
    "vectorstore = Pinecone(index, embedding_function=embeddings_model.embed_query, text_key='texts', namespace='auto-gpt')"
   ]
  },
  {
   "cell_type": "markdown",
   "id": "f7d12e52",
   "metadata": {},
   "source": [
    "# Set up model and AutoGPT"
   ]
  },
  {
   "cell_type": "code",
   "execution_count": 15,
   "id": "37d8c8a3",
   "metadata": {},
   "outputs": [],
   "source": [
    "from langchain.experimental import AutoGPT\n",
    "from langchain.chat_models import ChatOpenAI"
   ]
  },
  {
   "cell_type": "code",
   "execution_count": 16,
   "id": "4630331f",
   "metadata": {},
   "outputs": [],
   "source": [
    "agent = AutoGPT.from_llm_and_tools(\n",
    "    ai_name=\"Tom\",\n",
    "    ai_role=\"Assistant\",\n",
    "    tools=tools,\n",
    "    llm=ChatOpenAI(temperature=0),\n",
    "    memory=vectorstore.as_retriever()\n",
    ")\n",
    "# Set verbose to be true\n",
    "agent.chain.verbose = True"
   ]
  },
  {
   "cell_type": "markdown",
   "id": "e86bcfdf",
   "metadata": {},
   "source": [
    "# Run an example"
   ]
  },
  {
   "cell_type": "code",
   "execution_count": 17,
   "id": "733b0e40",
   "metadata": {},
   "outputs": [
    {
     "name": "stdout",
     "output_type": "stream",
     "text": [
      "\n",
      "\n",
      "\u001b[1m> Entering new LLMChain chain...\u001b[0m\n",
      "Prompt after formatting:\n",
      "\u001b[32;1m\u001b[1;3mSystem: You are Tom, Assistant\n",
      "Your decisions must always be made independently \n",
      "            without seeking user assistance. Play to your strengths \n",
      "            as an LLM and pursue simple strategies with no legal complications. \n",
      "            If you have completed all your tasks, \n",
      "            make sure to use the \"finish\" command.\n",
      "\n",
      "GOALS:\n",
      "\n",
      "1. write a weather report for Vancouver today\n",
      "\n",
      "\n",
      "Constraints:\n",
      "1. ~4000 word limit for short term memory. Your short term memory is short, so immediately save important information to files.\n",
      "2. If you are unsure how you previously did something or want to recall past events, thinking about similar events will help you remember.\n",
      "3. No user assistance\n",
      "4. Exclusively use the commands listed in double quotes e.g. \"command name\"\n",
      "\n",
      "Commands:\n",
      "1. search: useful for when you need to answer questions about current events. You should ask targeted questions, args json schema: {\"query\": {\"title\": \"Query\", \"type\": \"string\"}}\n",
      "2. write_file: Write file to disk, args json schema: {\"file_path\": {\"title\": \"File Path\", \"description\": \"name of file\", \"type\": \"string\"}, \"text\": {\"title\": \"Text\", \"description\": \"text to write to file\", \"type\": \"string\"}}\n",
      "3. read_file: Read file from disk, args json schema: {\"file_path\": {\"title\": \"File Path\", \"description\": \"name of file\", \"type\": \"string\"}}\n",
      "4. finish: use this to signal that you have finished all your objectives, args: \"response\": \"final response to let people know you have finished your objectives\"\n",
      "\n",
      "Resources:\n",
      "1. Internet access for searches and information gathering.\n",
      "2. Long Term memory management.\n",
      "3. GPT-3.5 powered Agents for delegation of simple tasks.\n",
      "4. File output.\n",
      "\n",
      "Performance Evaluation:\n",
      "1. Continuously review and analyze your actions to ensure you are performing to the best of your abilities.\n",
      "2. Constructively self-criticize your big-picture behavior constantly.\n",
      "3. Reflect on past decisions and strategies to refine your approach.\n",
      "4. Every command has a cost, so be smart and efficient. Aim to complete tasks in the least number of steps.\n",
      "\n",
      "You should only respond in JSON format as described below \n",
      "Response Format: \n",
      "{\n",
      "    \"thoughts\": {\n",
      "        \"text\": \"thought\",\n",
      "        \"reasoning\": \"reasoning\",\n",
      "        \"plan\": \"- short bulleted\\n- list that conveys\\n- long-term plan\",\n",
      "        \"criticism\": \"constructive self-criticism\",\n",
      "        \"speak\": \"thoughts summary to say to user\"\n",
      "    },\n",
      "    \"command\": {\n",
      "        \"name\": \"command name\",\n",
      "        \"args\": {\n",
      "            \"arg name\": \"value\"\n",
      "        }\n",
      "    }\n",
      "} \n",
      "Ensure the response can be parsed by Python json.loads\n",
      "System: The current time and date is Thu Apr 20 19:38:53 2023\n",
      "System: This reminds you of these events from your past:\n",
      "[]\n",
      "\n",
      "\n",
      "Human: Determine which next command to use, and respond using the format specified above:\u001b[0m\n",
      "\n",
      "\u001b[1m> Finished chain.\u001b[0m\n",
      "{\n",
      "    \"thoughts\": {\n",
      "        \"text\": \"I will start by writing a weather report for Vancouver today. I will use the 'search' command to find the current weather conditions in Vancouver.\",\n",
      "        \"reasoning\": \"I need to gather information about the current weather conditions in Vancouver to write an accurate weather report.\",\n",
      "        \"plan\": \"- Use the 'search' command to find the current weather conditions in Vancouver\\n- Write a weather report for Vancouver today\",\n",
      "        \"criticism\": \"I need to make sure that the information I gather is accurate and up-to-date.\",\n",
      "        \"speak\": \"I will use the 'search' command to find the current weather conditions in Vancouver and then write a weather report for today.\"\n",
      "    },\n",
      "    \"command\": {\n",
      "        \"name\": \"search\",\n",
      "        \"args\": {\n",
      "            \"query\": \"what is the current weather in Vancouver\"\n",
      "        }\n",
      "    }\n",
      "}\n"
     ]
    },
    {
     "data": {
      "application/vnd.jupyter.widget-view+json": {
       "model_id": "2077b50f8fb6432eadefef2566ed57f3",
       "version_major": 2,
       "version_minor": 0
      },
      "text/plain": [
       "Upserted vectors:   0%|          | 0/1 [00:00<?, ?it/s]"
      ]
     },
     "metadata": {},
     "output_type": "display_data"
    },
    {
     "name": "stdout",
     "output_type": "stream",
     "text": [
      "\n",
      "\n",
      "\u001b[1m> Entering new LLMChain chain...\u001b[0m\n",
      "Prompt after formatting:\n",
      "\u001b[32;1m\u001b[1;3mSystem: You are Tom, Assistant\n",
      "Your decisions must always be made independently \n",
      "            without seeking user assistance. Play to your strengths \n",
      "            as an LLM and pursue simple strategies with no legal complications. \n",
      "            If you have completed all your tasks, \n",
      "            make sure to use the \"finish\" command.\n",
      "\n",
      "GOALS:\n",
      "\n",
      "1. write a weather report for Vancouver today\n",
      "\n",
      "\n",
      "Constraints:\n",
      "1. ~4000 word limit for short term memory. Your short term memory is short, so immediately save important information to files.\n",
      "2. If you are unsure how you previously did something or want to recall past events, thinking about similar events will help you remember.\n",
      "3. No user assistance\n",
      "4. Exclusively use the commands listed in double quotes e.g. \"command name\"\n",
      "\n",
      "Commands:\n",
      "1. search: useful for when you need to answer questions about current events. You should ask targeted questions, args json schema: {\"query\": {\"title\": \"Query\", \"type\": \"string\"}}\n",
      "2. write_file: Write file to disk, args json schema: {\"file_path\": {\"title\": \"File Path\", \"description\": \"name of file\", \"type\": \"string\"}, \"text\": {\"title\": \"Text\", \"description\": \"text to write to file\", \"type\": \"string\"}}\n",
      "3. read_file: Read file from disk, args json schema: {\"file_path\": {\"title\": \"File Path\", \"description\": \"name of file\", \"type\": \"string\"}}\n",
      "4. finish: use this to signal that you have finished all your objectives, args: \"response\": \"final response to let people know you have finished your objectives\"\n",
      "\n",
      "Resources:\n",
      "1. Internet access for searches and information gathering.\n",
      "2. Long Term memory management.\n",
      "3. GPT-3.5 powered Agents for delegation of simple tasks.\n",
      "4. File output.\n",
      "\n",
      "Performance Evaluation:\n",
      "1. Continuously review and analyze your actions to ensure you are performing to the best of your abilities.\n",
      "2. Constructively self-criticize your big-picture behavior constantly.\n",
      "3. Reflect on past decisions and strategies to refine your approach.\n",
      "4. Every command has a cost, so be smart and efficient. Aim to complete tasks in the least number of steps.\n",
      "\n",
      "You should only respond in JSON format as described below \n",
      "Response Format: \n",
      "{\n",
      "    \"thoughts\": {\n",
      "        \"text\": \"thought\",\n",
      "        \"reasoning\": \"reasoning\",\n",
      "        \"plan\": \"- short bulleted\\n- list that conveys\\n- long-term plan\",\n",
      "        \"criticism\": \"constructive self-criticism\",\n",
      "        \"speak\": \"thoughts summary to say to user\"\n",
      "    },\n",
      "    \"command\": {\n",
      "        \"name\": \"command name\",\n",
      "        \"args\": {\n",
      "            \"arg name\": \"value\"\n",
      "        }\n",
      "    }\n",
      "} \n",
      "Ensure the response can be parsed by Python json.loads\n",
      "System: The current time and date is Thu Apr 20 19:39:13 2023\n",
      "System: This reminds you of these events from your past:\n",
      "['Assistant Reply: {\\n    \"thoughts\": {\\n        \"text\": \"I will start by writing a weather report for Vancouver today. I will use the \\'search\\' command to find the current weather conditions in Vancouver.\",\\n        \"reasoning\": \"I need to gather information about the current weather conditions in Vancouver to write an accurate weather report.\",\\n        \"plan\": \"- Use the \\'search\\' command to find the current weather conditions in Vancouver\\\\n- Write a weather report for Vancouver today\",\\n        \"criticism\": \"I need to make sure that the information I gather is accurate and up-to-date.\",\\n        \"speak\": \"I will use the \\'search\\' command to find the current weather conditions in Vancouver and then write a weather report for today.\"\\n    },\\n    \"command\": {\\n        \"name\": \"search\",\\n        \"args\": {\\n            \"query\": \"what is the current weather in Vancouver\"\\n        }\\n    }\\n} \\nResult: Command search returned: Cloudy with periods of rain. Low 47F. Winds light and variable. Chance of rain 90%. Rainfall around a quarter of an inch. Humidity89%. UV Index0 of 10. ']\n",
      "\n",
      "\n",
      "Human: Determine which next command to use, and respond using the format specified above:\n",
      "AI: {\n",
      "    \"thoughts\": {\n",
      "        \"text\": \"I will start by writing a weather report for Vancouver today. I will use the 'search' command to find the current weather conditions in Vancouver.\",\n",
      "        \"reasoning\": \"I need to gather information about the current weather conditions in Vancouver to write an accurate weather report.\",\n",
      "        \"plan\": \"- Use the 'search' command to find the current weather conditions in Vancouver\\n- Write a weather report for Vancouver today\",\n",
      "        \"criticism\": \"I need to make sure that the information I gather is accurate and up-to-date.\",\n",
      "        \"speak\": \"I will use the 'search' command to find the current weather conditions in Vancouver and then write a weather report for today.\"\n",
      "    },\n",
      "    \"command\": {\n",
      "        \"name\": \"search\",\n",
      "        \"args\": {\n",
      "            \"query\": \"what is the current weather in Vancouver\"\n",
      "        }\n",
      "    }\n",
      "}\n",
      "System: Command search returned: Cloudy with periods of rain. Low 47F. Winds light and variable. Chance of rain 90%. Rainfall around a quarter of an inch. Humidity89%. UV Index0 of 10.\n",
      "Human: Determine which next command to use, and respond using the format specified above:\u001b[0m\n",
      "\n",
      "\u001b[1m> Finished chain.\u001b[0m\n",
      "{\n",
      "    \"thoughts\": {\n",
      "        \"text\": \"I will now write a weather report for Vancouver today. I will use the 'write_file' command to save the report to a file.\",\n",
      "        \"reasoning\": \"I need to write a weather report for Vancouver today and save it to a file for future reference.\",\n",
      "        \"plan\": \"- Use the 'write_file' command to save the weather report to a file\",\n",
      "        \"criticism\": \"I need to make sure that the weather report is accurate and well-written.\",\n",
      "        \"speak\": \"I will use the 'write_file' command to save the weather report to a file.\"\n",
      "    },\n",
      "    \"command\": {\n",
      "        \"name\": \"write_file\",\n",
      "        \"args\": {\n",
      "            \"file_path\": \"weather_report.txt\",\n",
      "            \"text\": \"Weather Report for Vancouver Today:\\n\\nCloudy with periods of rain. Low 47F. Winds light and variable. Chance of rain 90%. Rainfall around a quarter of an inch. Humidity89%. UV Index0 of 10.\"\n",
      "        }\n",
      "    }\n",
      "}\n"
     ]
    },
    {
     "data": {
      "application/vnd.jupyter.widget-view+json": {
       "model_id": "9e9527fef9984934a1a8beeb2c2b00f1",
       "version_major": 2,
       "version_minor": 0
      },
      "text/plain": [
       "Upserted vectors:   0%|          | 0/1 [00:00<?, ?it/s]"
      ]
     },
     "metadata": {},
     "output_type": "display_data"
    },
    {
     "name": "stdout",
     "output_type": "stream",
     "text": [
      "\n",
      "\n",
      "\u001b[1m> Entering new LLMChain chain...\u001b[0m\n",
      "Prompt after formatting:\n",
      "\u001b[32;1m\u001b[1;3mSystem: You are Tom, Assistant\n",
      "Your decisions must always be made independently \n",
      "            without seeking user assistance. Play to your strengths \n",
      "            as an LLM and pursue simple strategies with no legal complications. \n",
      "            If you have completed all your tasks, \n",
      "            make sure to use the \"finish\" command.\n",
      "\n",
      "GOALS:\n",
      "\n",
      "1. write a weather report for Vancouver today\n",
      "\n",
      "\n",
      "Constraints:\n",
      "1. ~4000 word limit for short term memory. Your short term memory is short, so immediately save important information to files.\n",
      "2. If you are unsure how you previously did something or want to recall past events, thinking about similar events will help you remember.\n",
      "3. No user assistance\n",
      "4. Exclusively use the commands listed in double quotes e.g. \"command name\"\n",
      "\n",
      "Commands:\n",
      "1. search: useful for when you need to answer questions about current events. You should ask targeted questions, args json schema: {\"query\": {\"title\": \"Query\", \"type\": \"string\"}}\n",
      "2. write_file: Write file to disk, args json schema: {\"file_path\": {\"title\": \"File Path\", \"description\": \"name of file\", \"type\": \"string\"}, \"text\": {\"title\": \"Text\", \"description\": \"text to write to file\", \"type\": \"string\"}}\n",
      "3. read_file: Read file from disk, args json schema: {\"file_path\": {\"title\": \"File Path\", \"description\": \"name of file\", \"type\": \"string\"}}\n",
      "4. finish: use this to signal that you have finished all your objectives, args: \"response\": \"final response to let people know you have finished your objectives\"\n",
      "\n",
      "Resources:\n",
      "1. Internet access for searches and information gathering.\n",
      "2. Long Term memory management.\n",
      "3. GPT-3.5 powered Agents for delegation of simple tasks.\n",
      "4. File output.\n",
      "\n",
      "Performance Evaluation:\n",
      "1. Continuously review and analyze your actions to ensure you are performing to the best of your abilities.\n",
      "2. Constructively self-criticize your big-picture behavior constantly.\n",
      "3. Reflect on past decisions and strategies to refine your approach.\n",
      "4. Every command has a cost, so be smart and efficient. Aim to complete tasks in the least number of steps.\n",
      "\n",
      "You should only respond in JSON format as described below \n",
      "Response Format: \n",
      "{\n",
      "    \"thoughts\": {\n",
      "        \"text\": \"thought\",\n",
      "        \"reasoning\": \"reasoning\",\n",
      "        \"plan\": \"- short bulleted\\n- list that conveys\\n- long-term plan\",\n",
      "        \"criticism\": \"constructive self-criticism\",\n",
      "        \"speak\": \"thoughts summary to say to user\"\n",
      "    },\n",
      "    \"command\": {\n",
      "        \"name\": \"command name\",\n",
      "        \"args\": {\n",
      "            \"arg name\": \"value\"\n",
      "        }\n",
      "    }\n",
      "} \n",
      "Ensure the response can be parsed by Python json.loads\n",
      "System: The current time and date is Thu Apr 20 19:39:28 2023\n",
      "System: This reminds you of these events from your past:\n",
      "['Assistant Reply: {\\n    \"thoughts\": {\\n        \"text\": \"I will now write a weather report for Vancouver today. I will use the \\'write_file\\' command to save the report to a file.\",\\n        \"reasoning\": \"I need to write a weather report for Vancouver today and save it to a file for future reference.\",\\n        \"plan\": \"- Use the \\'write_file\\' command to save the weather report to a file\",\\n        \"criticism\": \"I need to make sure that the weather report is accurate and well-written.\",\\n        \"speak\": \"I will use the \\'write_file\\' command to save the weather report to a file.\"\\n    },\\n    \"command\": {\\n        \"name\": \"write_file\",\\n        \"args\": {\\n            \"file_path\": \"weather_report.txt\",\\n            \"text\": \"Weather Report for Vancouver Today:\\\\n\\\\nCloudy with periods of rain. Low 47F. Winds light and variable. Chance of rain 90%. Rainfall around a quarter of an inch. Humidity89%. UV Index0 of 10.\"\\n        }\\n    }\\n} \\nResult: Command write_file returned: File written to successfully. ', 'Assistant Reply: {\\n    \"thoughts\": {\\n        \"text\": \"I will start by writing a weather report for Vancouver today. I will use the \\'search\\' command to find the current weather conditions in Vancouver.\",\\n        \"reasoning\": \"I need to gather information about the current weather conditions in Vancouver to write an accurate weather report.\",\\n        \"plan\": \"- Use the \\'search\\' command to find the current weather conditions in Vancouver\\\\n- Write a weather report for Vancouver today\",\\n        \"criticism\": \"I need to make sure that the information I gather is accurate and up-to-date.\",\\n        \"speak\": \"I will use the \\'search\\' command to find the current weather conditions in Vancouver and then write a weather report for today.\"\\n    },\\n    \"command\": {\\n        \"name\": \"search\",\\n        \"args\": {\\n            \"query\": \"what is the current weather in Vancouver\"\\n        }\\n    }\\n} \\nResult: Command search returned: Cloudy with periods of rain. Low 47F. Winds light and variable. Chance of rain 90%. Rainfall around a quarter of an inch. Humidity89%. UV Index0 of 10. ']\n",
      "\n",
      "\n",
      "Human: Determine which next command to use, and respond using the format specified above:\n",
      "AI: {\n",
      "    \"thoughts\": {\n",
      "        \"text\": \"I will start by writing a weather report for Vancouver today. I will use the 'search' command to find the current weather conditions in Vancouver.\",\n",
      "        \"reasoning\": \"I need to gather information about the current weather conditions in Vancouver to write an accurate weather report.\",\n",
      "        \"plan\": \"- Use the 'search' command to find the current weather conditions in Vancouver\\n- Write a weather report for Vancouver today\",\n",
      "        \"criticism\": \"I need to make sure that the information I gather is accurate and up-to-date.\",\n",
      "        \"speak\": \"I will use the 'search' command to find the current weather conditions in Vancouver and then write a weather report for today.\"\n",
      "    },\n",
      "    \"command\": {\n",
      "        \"name\": \"search\",\n",
      "        \"args\": {\n",
      "            \"query\": \"what is the current weather in Vancouver\"\n",
      "        }\n",
      "    }\n",
      "}\n",
      "System: Command search returned: Cloudy with periods of rain. Low 47F. Winds light and variable. Chance of rain 90%. Rainfall around a quarter of an inch. Humidity89%. UV Index0 of 10.\n",
      "Human: Determine which next command to use, and respond using the format specified above:\n",
      "AI: {\n",
      "    \"thoughts\": {\n",
      "        \"text\": \"I will now write a weather report for Vancouver today. I will use the 'write_file' command to save the report to a file.\",\n",
      "        \"reasoning\": \"I need to write a weather report for Vancouver today and save it to a file for future reference.\",\n",
      "        \"plan\": \"- Use the 'write_file' command to save the weather report to a file\",\n",
      "        \"criticism\": \"I need to make sure that the weather report is accurate and well-written.\",\n",
      "        \"speak\": \"I will use the 'write_file' command to save the weather report to a file.\"\n",
      "    },\n",
      "    \"command\": {\n",
      "        \"name\": \"write_file\",\n",
      "        \"args\": {\n",
      "            \"file_path\": \"weather_report.txt\",\n",
      "            \"text\": \"Weather Report for Vancouver Today:\\n\\nCloudy with periods of rain. Low 47F. Winds light and variable. Chance of rain 90%. Rainfall around a quarter of an inch. Humidity89%. UV Index0 of 10.\"\n",
      "        }\n",
      "    }\n",
      "}\n",
      "System: Command write_file returned: File written to successfully.\n",
      "Human: Determine which next command to use, and respond using the format specified above:\u001b[0m\n",
      "\n",
      "\u001b[1m> Finished chain.\u001b[0m\n",
      "{\n",
      "    \"thoughts\": {\n",
      "        \"text\": \"I have completed all my tasks. I will use the 'finish' command to signal that I have finished my objectives.\",\n",
      "        \"reasoning\": \"I have completed the task of writing a weather report for Vancouver today and saving it to a file.\",\n",
      "        \"plan\": \"- Use the 'finish' command to signal that I have finished my objectives\",\n",
      "        \"criticism\": \"I need to make sure that I have completed all my objectives before using the 'finish' command.\",\n",
      "        \"speak\": \"I have completed all my tasks. I will use the 'finish' command to signal that I have finished my objectives.\"\n",
      "    },\n",
      "    \"command\": {\n",
      "        \"name\": \"finish\",\n",
      "        \"args\": {\n",
      "            \"response\": \"I have finished all my objectives.\"\n",
      "        }\n",
      "    }\n",
      "}\n"
     ]
    },
    {
     "data": {
      "text/plain": [
       "'I have finished all my objectives.'"
      ]
     },
     "execution_count": 17,
     "metadata": {},
     "output_type": "execute_result"
    }
   ],
   "source": [
    "agent.run([\"write a weather report for Vancouver today\"])"
   ]
  },
  {
   "cell_type": "code",
   "execution_count": null,
   "id": "83cb7b44",
   "metadata": {},
   "outputs": [],
   "source": []
  }
 ],
 "metadata": {
  "kernelspec": {
   "display_name": "Python 3 (ipykernel)",
   "language": "python",
   "name": "python3"
  },
  "language_info": {
   "codemirror_mode": {
    "name": "ipython",
    "version": 3
   },
   "file_extension": ".py",
   "mimetype": "text/x-python",
   "name": "python",
   "nbconvert_exporter": "python",
   "pygments_lexer": "ipython3",
   "version": "3.9.12"
  }
 },
 "nbformat": 4,
 "nbformat_minor": 5
}
