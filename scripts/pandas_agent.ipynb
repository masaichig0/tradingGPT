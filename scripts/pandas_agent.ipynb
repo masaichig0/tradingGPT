{
 "cells": [
  {
   "cell_type": "markdown",
   "id": "5347b6a2",
   "metadata": {},
   "source": [
    "# Test few different padas data frame as agent tool:\n",
    "\n",
    "* Get data with `FinancialDataYahoo` class in `financial_data.py`\n",
    "* Get data with `Data` class in price data. (Historical price data)\n",
    "* Define `pandas_agent` functuion to create DataFrame agent.\n",
    "* Set pandas_agent as tools\n",
    "* Create other tools like searching and python REPL\n",
    "* Set up Memory\n",
    "* Initialize agent"
   ]
  },
  {
   "cell_type": "code",
   "execution_count": 1,
   "id": "86a1b14c",
   "metadata": {},
   "outputs": [],
   "source": [
    "from price_data import Data\n",
    "from financial_data import FinancialDataFinnHub, FinancialDataYahoo\n",
    "import os\n",
    "import pandas as pd\n",
    "\n",
    "finhub_api_key = os.environ.get(\"FINHUB_API_KEY\")\n",
    "symbol = \"AMD\""
   ]
  },
  {
   "cell_type": "code",
   "execution_count": 2,
   "id": "36b4339b",
   "metadata": {},
   "outputs": [
    {
     "name": "stdout",
     "output_type": "stream",
     "text": [
      "[*********************100%***********************]  1 of 1 completed\n",
      "[*********************100%***********************]  1 of 1 completed\n"
     ]
    }
   ],
   "source": [
    "price = Data(symbol, 1).preprocess_data_2[-100:]\n",
    "price_direction = Data(symbol, 50).add_arrow\n",
    "amd = FinancialDataFinnHub(symbol, finhub_api_key)\n",
    "amd_y = FinancialDataYahoo(symbol)"
   ]
  },
  {
   "cell_type": "code",
   "execution_count": 3,
   "id": "57e80894",
   "metadata": {},
   "outputs": [
    {
     "name": "stderr",
     "output_type": "stream",
     "text": [
      "C:\\Users\\Masa\\anaconda3\\lib\\site-packages\\yahoo_fin\\stock_info.py:336: FutureWarning: The frame.append method is deprecated and will be removed from pandas in a future version. Use pandas.concat instead.\n",
      "  table = table.append(elt)\n",
      "C:\\Users\\Masa\\anaconda3\\lib\\site-packages\\yahoo_fin\\stock_info.py:336: FutureWarning: The frame.append method is deprecated and will be removed from pandas in a future version. Use pandas.concat instead.\n",
      "  table = table.append(elt)\n",
      "C:\\Users\\Masa\\anaconda3\\lib\\site-packages\\yahoo_fin\\stock_info.py:336: FutureWarning: The frame.append method is deprecated and will be removed from pandas in a future version. Use pandas.concat instead.\n",
      "  table = table.append(elt)\n",
      "C:\\Users\\Masa\\anaconda3\\lib\\site-packages\\yahoo_fin\\stock_info.py:336: FutureWarning: The frame.append method is deprecated and will be removed from pandas in a future version. Use pandas.concat instead.\n",
      "  table = table.append(elt)\n",
      "C:\\Users\\Masa\\anaconda3\\lib\\site-packages\\yahoo_fin\\stock_info.py:336: FutureWarning: The frame.append method is deprecated and will be removed from pandas in a future version. Use pandas.concat instead.\n",
      "  table = table.append(elt)\n",
      "C:\\Users\\Masa\\anaconda3\\lib\\site-packages\\yahoo_fin\\stock_info.py:336: FutureWarning: The frame.append method is deprecated and will be removed from pandas in a future version. Use pandas.concat instead.\n",
      "  table = table.append(elt)\n",
      "C:\\Users\\Masa\\anaconda3\\lib\\site-packages\\yahoo_fin\\stock_info.py:336: FutureWarning: The frame.append method is deprecated and will be removed from pandas in a future version. Use pandas.concat instead.\n",
      "  table = table.append(elt)\n"
     ]
    }
   ],
   "source": [
    "stats = amd_y.stats"
   ]
  },
  {
   "cell_type": "code",
   "execution_count": 4,
   "id": "3d11a55e",
   "metadata": {},
   "outputs": [],
   "source": [
    "# Last 3 years of balancesheet\n",
    "annual_bs = pd.concat(amd.bs_list_a[:3])"
   ]
  },
  {
   "cell_type": "markdown",
   "id": "16bf0832",
   "metadata": {},
   "source": [
    "## Set OpenAI Chat model"
   ]
  },
  {
   "cell_type": "code",
   "execution_count": 5,
   "id": "454bbf6d",
   "metadata": {},
   "outputs": [],
   "source": [
    "from langchain.chat_models import ChatOpenAI\n",
    "import os\n",
    "llm = ChatOpenAI(temperature=0, openai_api_key=os.environ.get(\"OPENAI_API_KEY\"))"
   ]
  },
  {
   "cell_type": "markdown",
   "id": "0d5f85e9",
   "metadata": {},
   "source": [
    "## Define Pandas Agents:"
   ]
  },
  {
   "cell_type": "code",
   "execution_count": 6,
   "id": "7a8dbba2",
   "metadata": {},
   "outputs": [],
   "source": [
    "from langchain.agents import create_pandas_dataframe_agent\n",
    "\n",
    "def pandas_agent(df, input=\"\"):\n",
    "    return create_pandas_dataframe_agent(llm, df, verbose=True, openai_api_key=os.environ.get(\"OPENAI_API_KEY\"))"
   ]
  },
  {
   "cell_type": "markdown",
   "id": "8487477a",
   "metadata": {},
   "source": [
    "## Create pandas DataFrame Agents"
   ]
  },
  {
   "cell_type": "code",
   "execution_count": 7,
   "id": "5c3fe7bc",
   "metadata": {},
   "outputs": [],
   "source": [
    "stat_agent = pandas_agent(stats)\n",
    "balance_sheet_agent = pandas_agent(annual_bs)\n",
    "price_agent = pandas_agent(price)"
   ]
  },
  {
   "cell_type": "code",
   "execution_count": 8,
   "id": "2a044fc8",
   "metadata": {},
   "outputs": [
    {
     "name": "stdout",
     "output_type": "stream",
     "text": [
      "\n",
      "\n",
      "\u001b[1m> Entering new AgentExecutor chain...\u001b[0m\n",
      "\u001b[32;1m\u001b[1;3mThought: We need to look at the last 10 rows of the 'Close' column.\n",
      "Action: python_repl_ast\n",
      "Action Input: df['Close'][-10:]\u001b[0m\n",
      "Observation: \u001b[36;1m\u001b[1;3m190    89.870003\n",
      "191    89.779999\n",
      "192    89.940002\n",
      "193    90.110001\n",
      "194    88.430000\n",
      "195    87.570000\n",
      "196    83.800003\n",
      "197    85.940002\n",
      "198    87.440002\n",
      "199    89.370003\n",
      "Name: Close, dtype: float64\u001b[0m\n",
      "Thought:\u001b[32;1m\u001b[1;3mWe have the last 10 days of closing prices.\n",
      "Action: python_repl_ast\n",
      "Action Input: df['Close'][-10:].tolist()\u001b[0m\n",
      "Observation: \u001b[36;1m\u001b[1;3m[89.87000274658203, 89.77999877929688, 89.94000244140625, 90.11000061035156, 88.43000030517578, 87.56999969482422, 83.80000305175781, 85.94000244140625, 87.44000244140625, 89.37000274658203]\u001b[0m\n",
      "Thought:\u001b[32;1m\u001b[1;3mWe have the last 10 days of closing prices as a list.\n",
      "Final Answer: [89.87000274658203, 89.77999877929688, 89.94000244140625, 90.11000061035156, 88.43000030517578, 87.56999969482422, 83.80000305175781, 85.94000244140625, 87.44000244140625, 89.37000274658203]\u001b[0m\n",
      "\n",
      "\u001b[1m> Finished chain.\u001b[0m\n"
     ]
    },
    {
     "data": {
      "text/plain": [
       "'[89.87000274658203, 89.77999877929688, 89.94000244140625, 90.11000061035156, 88.43000030517578, 87.56999969482422, 83.80000305175781, 85.94000244140625, 87.44000244140625, 89.37000274658203]'"
      ]
     },
     "execution_count": 8,
     "metadata": {},
     "output_type": "execute_result"
    }
   ],
   "source": [
    "price_agent.run(\"What is the last 10 days of price movement?\")"
   ]
  },
  {
   "cell_type": "code",
   "execution_count": 9,
   "id": "9837d1c5",
   "metadata": {},
   "outputs": [
    {
     "data": {
      "text/html": [
       "<div>\n",
       "<style scoped>\n",
       "    .dataframe tbody tr th:only-of-type {\n",
       "        vertical-align: middle;\n",
       "    }\n",
       "\n",
       "    .dataframe tbody tr th {\n",
       "        vertical-align: top;\n",
       "    }\n",
       "\n",
       "    .dataframe thead th {\n",
       "        text-align: right;\n",
       "    }\n",
       "</style>\n",
       "<table border=\"1\" class=\"dataframe\">\n",
       "  <thead>\n",
       "    <tr style=\"text-align: right;\">\n",
       "      <th></th>\n",
       "      <th>Date</th>\n",
       "      <th>Open</th>\n",
       "      <th>High</th>\n",
       "      <th>Low</th>\n",
       "      <th>Close</th>\n",
       "      <th>Adj Close</th>\n",
       "      <th>Volume</th>\n",
       "      <th>Change</th>\n",
       "      <th>Direction</th>\n",
       "      <th>OBV</th>\n",
       "      <th>SMA/short</th>\n",
       "      <th>SMA/long</th>\n",
       "      <th>MACD</th>\n",
       "      <th>Signal Line</th>\n",
       "      <th>RSI</th>\n",
       "      <th>SlowK</th>\n",
       "      <th>SlowD</th>\n",
       "    </tr>\n",
       "  </thead>\n",
       "  <tbody>\n",
       "    <tr>\n",
       "      <th>190</th>\n",
       "      <td>2023-04-17</td>\n",
       "      <td>90.230003</td>\n",
       "      <td>90.690002</td>\n",
       "      <td>88.300003</td>\n",
       "      <td>89.870003</td>\n",
       "      <td>89.870003</td>\n",
       "      <td>47250800</td>\n",
       "      <td>-1.879997</td>\n",
       "      <td>DOWN</td>\n",
       "      <td>-732695600</td>\n",
       "      <td>93.301000</td>\n",
       "      <td>88.0070</td>\n",
       "      <td>-0.491930</td>\n",
       "      <td>0.681663</td>\n",
       "      <td>45.145154</td>\n",
       "      <td>17.534894</td>\n",
       "      <td>21.279179</td>\n",
       "    </tr>\n",
       "    <tr>\n",
       "      <th>191</th>\n",
       "      <td>2023-04-18</td>\n",
       "      <td>91.610001</td>\n",
       "      <td>92.160004</td>\n",
       "      <td>89.330002</td>\n",
       "      <td>89.779999</td>\n",
       "      <td>89.779999</td>\n",
       "      <td>46246300</td>\n",
       "      <td>-0.090004</td>\n",
       "      <td>DOWN</td>\n",
       "      <td>-778941900</td>\n",
       "      <td>92.623000</td>\n",
       "      <td>88.0808</td>\n",
       "      <td>-0.745269</td>\n",
       "      <td>0.396277</td>\n",
       "      <td>44.949710</td>\n",
       "      <td>14.395923</td>\n",
       "      <td>18.299982</td>\n",
       "    </tr>\n",
       "    <tr>\n",
       "      <th>192</th>\n",
       "      <td>2023-04-19</td>\n",
       "      <td>88.510002</td>\n",
       "      <td>90.540001</td>\n",
       "      <td>88.220001</td>\n",
       "      <td>89.940002</td>\n",
       "      <td>89.940002</td>\n",
       "      <td>37344500</td>\n",
       "      <td>0.160004</td>\n",
       "      <td>UP</td>\n",
       "      <td>-741597400</td>\n",
       "      <td>92.030000</td>\n",
       "      <td>88.2060</td>\n",
       "      <td>-0.884237</td>\n",
       "      <td>0.140174</td>\n",
       "      <td>45.402231</td>\n",
       "      <td>14.541632</td>\n",
       "      <td>15.490816</td>\n",
       "    </tr>\n",
       "    <tr>\n",
       "      <th>193</th>\n",
       "      <td>2023-04-20</td>\n",
       "      <td>88.830002</td>\n",
       "      <td>91.580002</td>\n",
       "      <td>88.730003</td>\n",
       "      <td>90.110001</td>\n",
       "      <td>90.110001</td>\n",
       "      <td>47082700</td>\n",
       "      <td>0.169998</td>\n",
       "      <td>UP</td>\n",
       "      <td>-694514700</td>\n",
       "      <td>91.785001</td>\n",
       "      <td>88.2900</td>\n",
       "      <td>-0.939592</td>\n",
       "      <td>-0.075779</td>\n",
       "      <td>45.910961</td>\n",
       "      <td>14.969791</td>\n",
       "      <td>14.635782</td>\n",
       "    </tr>\n",
       "    <tr>\n",
       "      <th>194</th>\n",
       "      <td>2023-04-21</td>\n",
       "      <td>89.800003</td>\n",
       "      <td>89.800003</td>\n",
       "      <td>88.059998</td>\n",
       "      <td>88.430000</td>\n",
       "      <td>88.430000</td>\n",
       "      <td>41067500</td>\n",
       "      <td>-1.680000</td>\n",
       "      <td>DOWN</td>\n",
       "      <td>-735582200</td>\n",
       "      <td>91.381001</td>\n",
       "      <td>88.3648</td>\n",
       "      <td>-1.141329</td>\n",
       "      <td>-0.288889</td>\n",
       "      <td>41.768910</td>\n",
       "      <td>13.004722</td>\n",
       "      <td>14.172048</td>\n",
       "    </tr>\n",
       "    <tr>\n",
       "      <th>195</th>\n",
       "      <td>2023-04-24</td>\n",
       "      <td>88.110001</td>\n",
       "      <td>88.639999</td>\n",
       "      <td>86.339996</td>\n",
       "      <td>87.570000</td>\n",
       "      <td>87.570000</td>\n",
       "      <td>40423800</td>\n",
       "      <td>-0.860001</td>\n",
       "      <td>DOWN</td>\n",
       "      <td>-776006000</td>\n",
       "      <td>90.590000</td>\n",
       "      <td>88.4520</td>\n",
       "      <td>-1.348177</td>\n",
       "      <td>-0.500747</td>\n",
       "      <td>39.789909</td>\n",
       "      <td>12.459332</td>\n",
       "      <td>13.477948</td>\n",
       "    </tr>\n",
       "    <tr>\n",
       "      <th>196</th>\n",
       "      <td>2023-04-25</td>\n",
       "      <td>86.900002</td>\n",
       "      <td>87.059998</td>\n",
       "      <td>83.760002</td>\n",
       "      <td>83.800003</td>\n",
       "      <td>83.800003</td>\n",
       "      <td>52771500</td>\n",
       "      <td>-3.769997</td>\n",
       "      <td>DOWN</td>\n",
       "      <td>-828777500</td>\n",
       "      <td>89.567001</td>\n",
       "      <td>88.4984</td>\n",
       "      <td>-1.876782</td>\n",
       "      <td>-0.775954</td>\n",
       "      <td>32.516697</td>\n",
       "      <td>9.888531</td>\n",
       "      <td>11.784195</td>\n",
       "    </tr>\n",
       "    <tr>\n",
       "      <th>197</th>\n",
       "      <td>2023-04-26</td>\n",
       "      <td>86.510002</td>\n",
       "      <td>87.349998</td>\n",
       "      <td>85.320000</td>\n",
       "      <td>85.940002</td>\n",
       "      <td>85.940002</td>\n",
       "      <td>47786600</td>\n",
       "      <td>2.139999</td>\n",
       "      <td>UP</td>\n",
       "      <td>-780990900</td>\n",
       "      <td>88.928001</td>\n",
       "      <td>88.5546</td>\n",
       "      <td>-1.958120</td>\n",
       "      <td>-1.012387</td>\n",
       "      <td>39.299412</td>\n",
       "      <td>10.388809</td>\n",
       "      <td>10.912224</td>\n",
       "    </tr>\n",
       "    <tr>\n",
       "      <th>198</th>\n",
       "      <td>2023-04-27</td>\n",
       "      <td>86.410004</td>\n",
       "      <td>87.570000</td>\n",
       "      <td>84.089996</td>\n",
       "      <td>87.440002</td>\n",
       "      <td>87.440002</td>\n",
       "      <td>53087200</td>\n",
       "      <td>1.500000</td>\n",
       "      <td>UP</td>\n",
       "      <td>-727903700</td>\n",
       "      <td>88.463001</td>\n",
       "      <td>88.5844</td>\n",
       "      <td>-1.799338</td>\n",
       "      <td>-1.169777</td>\n",
       "      <td>43.579992</td>\n",
       "      <td>12.639880</td>\n",
       "      <td>10.972406</td>\n",
       "    </tr>\n",
       "    <tr>\n",
       "      <th>199</th>\n",
       "      <td>2023-04-28</td>\n",
       "      <td>87.019997</td>\n",
       "      <td>89.750000</td>\n",
       "      <td>86.440002</td>\n",
       "      <td>89.370003</td>\n",
       "      <td>89.370003</td>\n",
       "      <td>50652100</td>\n",
       "      <td>1.930000</td>\n",
       "      <td>UP</td>\n",
       "      <td>-677251600</td>\n",
       "      <td>88.225002</td>\n",
       "      <td>88.6682</td>\n",
       "      <td>-1.430691</td>\n",
       "      <td>-1.221960</td>\n",
       "      <td>48.602310</td>\n",
       "      <td>20.950943</td>\n",
       "      <td>14.659877</td>\n",
       "    </tr>\n",
       "  </tbody>\n",
       "</table>\n",
       "</div>"
      ],
      "text/plain": [
       "          Date       Open       High        Low      Close  Adj Close  \\\n",
       "190 2023-04-17  90.230003  90.690002  88.300003  89.870003  89.870003   \n",
       "191 2023-04-18  91.610001  92.160004  89.330002  89.779999  89.779999   \n",
       "192 2023-04-19  88.510002  90.540001  88.220001  89.940002  89.940002   \n",
       "193 2023-04-20  88.830002  91.580002  88.730003  90.110001  90.110001   \n",
       "194 2023-04-21  89.800003  89.800003  88.059998  88.430000  88.430000   \n",
       "195 2023-04-24  88.110001  88.639999  86.339996  87.570000  87.570000   \n",
       "196 2023-04-25  86.900002  87.059998  83.760002  83.800003  83.800003   \n",
       "197 2023-04-26  86.510002  87.349998  85.320000  85.940002  85.940002   \n",
       "198 2023-04-27  86.410004  87.570000  84.089996  87.440002  87.440002   \n",
       "199 2023-04-28  87.019997  89.750000  86.440002  89.370003  89.370003   \n",
       "\n",
       "       Volume    Change Direction        OBV  SMA/short  SMA/long      MACD  \\\n",
       "190  47250800 -1.879997      DOWN -732695600  93.301000   88.0070 -0.491930   \n",
       "191  46246300 -0.090004      DOWN -778941900  92.623000   88.0808 -0.745269   \n",
       "192  37344500  0.160004        UP -741597400  92.030000   88.2060 -0.884237   \n",
       "193  47082700  0.169998        UP -694514700  91.785001   88.2900 -0.939592   \n",
       "194  41067500 -1.680000      DOWN -735582200  91.381001   88.3648 -1.141329   \n",
       "195  40423800 -0.860001      DOWN -776006000  90.590000   88.4520 -1.348177   \n",
       "196  52771500 -3.769997      DOWN -828777500  89.567001   88.4984 -1.876782   \n",
       "197  47786600  2.139999        UP -780990900  88.928001   88.5546 -1.958120   \n",
       "198  53087200  1.500000        UP -727903700  88.463001   88.5844 -1.799338   \n",
       "199  50652100  1.930000        UP -677251600  88.225002   88.6682 -1.430691   \n",
       "\n",
       "     Signal Line        RSI      SlowK      SlowD  \n",
       "190     0.681663  45.145154  17.534894  21.279179  \n",
       "191     0.396277  44.949710  14.395923  18.299982  \n",
       "192     0.140174  45.402231  14.541632  15.490816  \n",
       "193    -0.075779  45.910961  14.969791  14.635782  \n",
       "194    -0.288889  41.768910  13.004722  14.172048  \n",
       "195    -0.500747  39.789909  12.459332  13.477948  \n",
       "196    -0.775954  32.516697   9.888531  11.784195  \n",
       "197    -1.012387  39.299412  10.388809  10.912224  \n",
       "198    -1.169777  43.579992  12.639880  10.972406  \n",
       "199    -1.221960  48.602310  20.950943  14.659877  "
      ]
     },
     "execution_count": 9,
     "metadata": {},
     "output_type": "execute_result"
    }
   ],
   "source": [
    "price.loc[price.index[-10:]]"
   ]
  },
  {
   "cell_type": "code",
   "execution_count": 10,
   "id": "89a32686",
   "metadata": {},
   "outputs": [
    {
     "name": "stdout",
     "output_type": "stream",
     "text": [
      "\n",
      "\n",
      "\u001b[1m> Entering new AgentExecutor chain...\u001b[0m\n",
      "\u001b[32;1m\u001b[1;3mThought: I need more information about the dataframe to answer this question.\n",
      "Action: Check the columns of the dataframe.\n",
      "Action Input: `print(df.columns)`\u001b[0m\n",
      "Observation: Check the columns of the dataframe. is not a valid tool, try another one.\n",
      "Thought:\u001b[32;1m\u001b[1;3mI need to check the unique values in the 'year' column to see if there is data for 2022.\n",
      "Action: Use the unique() method on the 'year' column.\n",
      "Action Input: `print(df['year'].unique())`\u001b[0m\n",
      "Observation: Use the unique() method on the 'year' column. is not a valid tool, try another one.\n",
      "Thought:\u001b[32;1m\u001b[1;3mI need to filter the dataframe to only include data for 2022.\n",
      "Action: Use boolean indexing to filter the dataframe.\n",
      "Action Input: `df_2022 = df[df['year'] == 2022]`\u001b[0m\n",
      "Observation: Use boolean indexing to filter the dataframe. is not a valid tool, try another one.\n",
      "Thought:\u001b[32;1m\u001b[1;3mNow that I have a dataframe with data for 2022, I can check the Equity value.\n",
      "Action: Use the loc[] method to select the row with the Equity value for 2022.\n",
      "Action Input: `print(df_2022.loc[df_2022['label'] == 'Equity', 'value'])`\u001b[0m\n",
      "Observation: Use the loc[] method to select the row with the Equity value for 2022. is not a valid tool, try another one.\n",
      "Thought:"
     ]
    },
    {
     "ename": "OutputParserException",
     "evalue": "Could not parse LLM output: `The final answer is that I cannot answer the question without more information about the dataframe.`",
     "output_type": "error",
     "traceback": [
      "\u001b[1;31m---------------------------------------------------------------------------\u001b[0m",
      "\u001b[1;31mOutputParserException\u001b[0m                     Traceback (most recent call last)",
      "Input \u001b[1;32mIn [10]\u001b[0m, in \u001b[0;36m<cell line: 1>\u001b[1;34m()\u001b[0m\n\u001b[1;32m----> 1\u001b[0m \u001b[43mbalance_sheet_agent\u001b[49m\u001b[38;5;241;43m.\u001b[39;49m\u001b[43mrun\u001b[49m\u001b[43m(\u001b[49m\u001b[38;5;124;43m\"\u001b[39;49m\u001b[38;5;124;43mWhat is the Equity in 2022?\u001b[39;49m\u001b[38;5;124;43m\"\u001b[39;49m\u001b[43m)\u001b[49m\n",
      "File \u001b[1;32m~\\anaconda3\\lib\\site-packages\\langchain\\chains\\base.py:238\u001b[0m, in \u001b[0;36mChain.run\u001b[1;34m(self, callbacks, *args, **kwargs)\u001b[0m\n\u001b[0;32m    236\u001b[0m     \u001b[38;5;28;01mif\u001b[39;00m \u001b[38;5;28mlen\u001b[39m(args) \u001b[38;5;241m!=\u001b[39m \u001b[38;5;241m1\u001b[39m:\n\u001b[0;32m    237\u001b[0m         \u001b[38;5;28;01mraise\u001b[39;00m \u001b[38;5;167;01mValueError\u001b[39;00m(\u001b[38;5;124m\"\u001b[39m\u001b[38;5;124m`run` supports only one positional argument.\u001b[39m\u001b[38;5;124m\"\u001b[39m)\n\u001b[1;32m--> 238\u001b[0m     \u001b[38;5;28;01mreturn\u001b[39;00m \u001b[38;5;28;43mself\u001b[39;49m\u001b[43m(\u001b[49m\u001b[43margs\u001b[49m\u001b[43m[\u001b[49m\u001b[38;5;241;43m0\u001b[39;49m\u001b[43m]\u001b[49m\u001b[43m,\u001b[49m\u001b[43m \u001b[49m\u001b[43mcallbacks\u001b[49m\u001b[38;5;241;43m=\u001b[39;49m\u001b[43mcallbacks\u001b[49m\u001b[43m)\u001b[49m[\u001b[38;5;28mself\u001b[39m\u001b[38;5;241m.\u001b[39moutput_keys[\u001b[38;5;241m0\u001b[39m]]\n\u001b[0;32m    240\u001b[0m \u001b[38;5;28;01mif\u001b[39;00m kwargs \u001b[38;5;129;01mand\u001b[39;00m \u001b[38;5;129;01mnot\u001b[39;00m args:\n\u001b[0;32m    241\u001b[0m     \u001b[38;5;28;01mreturn\u001b[39;00m \u001b[38;5;28mself\u001b[39m(kwargs, callbacks\u001b[38;5;241m=\u001b[39mcallbacks)[\u001b[38;5;28mself\u001b[39m\u001b[38;5;241m.\u001b[39moutput_keys[\u001b[38;5;241m0\u001b[39m]]\n",
      "File \u001b[1;32m~\\anaconda3\\lib\\site-packages\\langchain\\chains\\base.py:142\u001b[0m, in \u001b[0;36mChain.__call__\u001b[1;34m(self, inputs, return_only_outputs, callbacks)\u001b[0m\n\u001b[0;32m    140\u001b[0m \u001b[38;5;28;01mexcept\u001b[39;00m (\u001b[38;5;167;01mKeyboardInterrupt\u001b[39;00m, \u001b[38;5;167;01mException\u001b[39;00m) \u001b[38;5;28;01mas\u001b[39;00m e:\n\u001b[0;32m    141\u001b[0m     run_manager\u001b[38;5;241m.\u001b[39mon_chain_error(e)\n\u001b[1;32m--> 142\u001b[0m     \u001b[38;5;28;01mraise\u001b[39;00m e\n\u001b[0;32m    143\u001b[0m run_manager\u001b[38;5;241m.\u001b[39mon_chain_end(outputs)\n\u001b[0;32m    144\u001b[0m \u001b[38;5;28;01mreturn\u001b[39;00m \u001b[38;5;28mself\u001b[39m\u001b[38;5;241m.\u001b[39mprep_outputs(inputs, outputs, return_only_outputs)\n",
      "File \u001b[1;32m~\\anaconda3\\lib\\site-packages\\langchain\\chains\\base.py:136\u001b[0m, in \u001b[0;36mChain.__call__\u001b[1;34m(self, inputs, return_only_outputs, callbacks)\u001b[0m\n\u001b[0;32m    130\u001b[0m run_manager \u001b[38;5;241m=\u001b[39m callback_manager\u001b[38;5;241m.\u001b[39mon_chain_start(\n\u001b[0;32m    131\u001b[0m     {\u001b[38;5;124m\"\u001b[39m\u001b[38;5;124mname\u001b[39m\u001b[38;5;124m\"\u001b[39m: \u001b[38;5;28mself\u001b[39m\u001b[38;5;241m.\u001b[39m\u001b[38;5;18m__class__\u001b[39m\u001b[38;5;241m.\u001b[39m\u001b[38;5;18m__name__\u001b[39m},\n\u001b[0;32m    132\u001b[0m     inputs,\n\u001b[0;32m    133\u001b[0m )\n\u001b[0;32m    134\u001b[0m \u001b[38;5;28;01mtry\u001b[39;00m:\n\u001b[0;32m    135\u001b[0m     outputs \u001b[38;5;241m=\u001b[39m (\n\u001b[1;32m--> 136\u001b[0m         \u001b[38;5;28;43mself\u001b[39;49m\u001b[38;5;241;43m.\u001b[39;49m\u001b[43m_call\u001b[49m\u001b[43m(\u001b[49m\u001b[43minputs\u001b[49m\u001b[43m,\u001b[49m\u001b[43m \u001b[49m\u001b[43mrun_manager\u001b[49m\u001b[38;5;241;43m=\u001b[39;49m\u001b[43mrun_manager\u001b[49m\u001b[43m)\u001b[49m\n\u001b[0;32m    137\u001b[0m         \u001b[38;5;28;01mif\u001b[39;00m new_arg_supported\n\u001b[0;32m    138\u001b[0m         \u001b[38;5;28;01melse\u001b[39;00m \u001b[38;5;28mself\u001b[39m\u001b[38;5;241m.\u001b[39m_call(inputs)\n\u001b[0;32m    139\u001b[0m     )\n\u001b[0;32m    140\u001b[0m \u001b[38;5;28;01mexcept\u001b[39;00m (\u001b[38;5;167;01mKeyboardInterrupt\u001b[39;00m, \u001b[38;5;167;01mException\u001b[39;00m) \u001b[38;5;28;01mas\u001b[39;00m e:\n\u001b[0;32m    141\u001b[0m     run_manager\u001b[38;5;241m.\u001b[39mon_chain_error(e)\n",
      "File \u001b[1;32m~\\anaconda3\\lib\\site-packages\\langchain\\agents\\agent.py:855\u001b[0m, in \u001b[0;36mAgentExecutor._call\u001b[1;34m(self, inputs, run_manager)\u001b[0m\n\u001b[0;32m    853\u001b[0m \u001b[38;5;66;03m# We now enter the agent loop (until it returns something).\u001b[39;00m\n\u001b[0;32m    854\u001b[0m \u001b[38;5;28;01mwhile\u001b[39;00m \u001b[38;5;28mself\u001b[39m\u001b[38;5;241m.\u001b[39m_should_continue(iterations, time_elapsed):\n\u001b[1;32m--> 855\u001b[0m     next_step_output \u001b[38;5;241m=\u001b[39m \u001b[38;5;28;43mself\u001b[39;49m\u001b[38;5;241;43m.\u001b[39;49m\u001b[43m_take_next_step\u001b[49m\u001b[43m(\u001b[49m\n\u001b[0;32m    856\u001b[0m \u001b[43m        \u001b[49m\u001b[43mname_to_tool_map\u001b[49m\u001b[43m,\u001b[49m\n\u001b[0;32m    857\u001b[0m \u001b[43m        \u001b[49m\u001b[43mcolor_mapping\u001b[49m\u001b[43m,\u001b[49m\n\u001b[0;32m    858\u001b[0m \u001b[43m        \u001b[49m\u001b[43minputs\u001b[49m\u001b[43m,\u001b[49m\n\u001b[0;32m    859\u001b[0m \u001b[43m        \u001b[49m\u001b[43mintermediate_steps\u001b[49m\u001b[43m,\u001b[49m\n\u001b[0;32m    860\u001b[0m \u001b[43m        \u001b[49m\u001b[43mrun_manager\u001b[49m\u001b[38;5;241;43m=\u001b[39;49m\u001b[43mrun_manager\u001b[49m\u001b[43m,\u001b[49m\n\u001b[0;32m    861\u001b[0m \u001b[43m    \u001b[49m\u001b[43m)\u001b[49m\n\u001b[0;32m    862\u001b[0m     \u001b[38;5;28;01mif\u001b[39;00m \u001b[38;5;28misinstance\u001b[39m(next_step_output, AgentFinish):\n\u001b[0;32m    863\u001b[0m         \u001b[38;5;28;01mreturn\u001b[39;00m \u001b[38;5;28mself\u001b[39m\u001b[38;5;241m.\u001b[39m_return(\n\u001b[0;32m    864\u001b[0m             next_step_output, intermediate_steps, run_manager\u001b[38;5;241m=\u001b[39mrun_manager\n\u001b[0;32m    865\u001b[0m         )\n",
      "File \u001b[1;32m~\\anaconda3\\lib\\site-packages\\langchain\\agents\\agent.py:723\u001b[0m, in \u001b[0;36mAgentExecutor._take_next_step\u001b[1;34m(self, name_to_tool_map, color_mapping, inputs, intermediate_steps, run_manager)\u001b[0m\n\u001b[0;32m    718\u001b[0m \u001b[38;5;250m\u001b[39m\u001b[38;5;124;03m\"\"\"Take a single step in the thought-action-observation loop.\u001b[39;00m\n\u001b[0;32m    719\u001b[0m \n\u001b[0;32m    720\u001b[0m \u001b[38;5;124;03mOverride this to take control of how the agent makes and acts on choices.\u001b[39;00m\n\u001b[0;32m    721\u001b[0m \u001b[38;5;124;03m\"\"\"\u001b[39;00m\n\u001b[0;32m    722\u001b[0m \u001b[38;5;66;03m# Call the LLM to see what to do.\u001b[39;00m\n\u001b[1;32m--> 723\u001b[0m output \u001b[38;5;241m=\u001b[39m \u001b[38;5;28mself\u001b[39m\u001b[38;5;241m.\u001b[39magent\u001b[38;5;241m.\u001b[39mplan(\n\u001b[0;32m    724\u001b[0m     intermediate_steps,\n\u001b[0;32m    725\u001b[0m     callbacks\u001b[38;5;241m=\u001b[39mrun_manager\u001b[38;5;241m.\u001b[39mget_child() \u001b[38;5;28;01mif\u001b[39;00m run_manager \u001b[38;5;28;01melse\u001b[39;00m \u001b[38;5;28;01mNone\u001b[39;00m,\n\u001b[0;32m    726\u001b[0m     \u001b[38;5;241m*\u001b[39m\u001b[38;5;241m*\u001b[39minputs,\n\u001b[0;32m    727\u001b[0m )\n\u001b[0;32m    728\u001b[0m \u001b[38;5;66;03m# If the tool chosen is the finishing tool, then we end and return.\u001b[39;00m\n\u001b[0;32m    729\u001b[0m \u001b[38;5;28;01mif\u001b[39;00m \u001b[38;5;28misinstance\u001b[39m(output, AgentFinish):\n",
      "File \u001b[1;32m~\\anaconda3\\lib\\site-packages\\langchain\\agents\\agent.py:424\u001b[0m, in \u001b[0;36mAgent.plan\u001b[1;34m(self, intermediate_steps, callbacks, **kwargs)\u001b[0m\n\u001b[0;32m    422\u001b[0m full_inputs \u001b[38;5;241m=\u001b[39m \u001b[38;5;28mself\u001b[39m\u001b[38;5;241m.\u001b[39mget_full_inputs(intermediate_steps, \u001b[38;5;241m*\u001b[39m\u001b[38;5;241m*\u001b[39mkwargs)\n\u001b[0;32m    423\u001b[0m full_output \u001b[38;5;241m=\u001b[39m \u001b[38;5;28mself\u001b[39m\u001b[38;5;241m.\u001b[39mllm_chain\u001b[38;5;241m.\u001b[39mpredict(callbacks\u001b[38;5;241m=\u001b[39mcallbacks, \u001b[38;5;241m*\u001b[39m\u001b[38;5;241m*\u001b[39mfull_inputs)\n\u001b[1;32m--> 424\u001b[0m \u001b[38;5;28;01mreturn\u001b[39;00m \u001b[38;5;28;43mself\u001b[39;49m\u001b[38;5;241;43m.\u001b[39;49m\u001b[43moutput_parser\u001b[49m\u001b[38;5;241;43m.\u001b[39;49m\u001b[43mparse\u001b[49m\u001b[43m(\u001b[49m\u001b[43mfull_output\u001b[49m\u001b[43m)\u001b[49m\n",
      "File \u001b[1;32m~\\anaconda3\\lib\\site-packages\\langchain\\agents\\mrkl\\output_parser.py:26\u001b[0m, in \u001b[0;36mMRKLOutputParser.parse\u001b[1;34m(self, text)\u001b[0m\n\u001b[0;32m     24\u001b[0m match \u001b[38;5;241m=\u001b[39m re\u001b[38;5;241m.\u001b[39msearch(regex, text, re\u001b[38;5;241m.\u001b[39mDOTALL)\n\u001b[0;32m     25\u001b[0m \u001b[38;5;28;01mif\u001b[39;00m \u001b[38;5;129;01mnot\u001b[39;00m match:\n\u001b[1;32m---> 26\u001b[0m     \u001b[38;5;28;01mraise\u001b[39;00m OutputParserException(\u001b[38;5;124mf\u001b[39m\u001b[38;5;124m\"\u001b[39m\u001b[38;5;124mCould not parse LLM output: `\u001b[39m\u001b[38;5;132;01m{\u001b[39;00mtext\u001b[38;5;132;01m}\u001b[39;00m\u001b[38;5;124m`\u001b[39m\u001b[38;5;124m\"\u001b[39m)\n\u001b[0;32m     27\u001b[0m action \u001b[38;5;241m=\u001b[39m match\u001b[38;5;241m.\u001b[39mgroup(\u001b[38;5;241m1\u001b[39m)\u001b[38;5;241m.\u001b[39mstrip()\n\u001b[0;32m     28\u001b[0m action_input \u001b[38;5;241m=\u001b[39m match\u001b[38;5;241m.\u001b[39mgroup(\u001b[38;5;241m2\u001b[39m)\n",
      "\u001b[1;31mOutputParserException\u001b[0m: Could not parse LLM output: `The final answer is that I cannot answer the question without more information about the dataframe.`"
     ]
    }
   ],
   "source": [
    "balance_sheet_agent.run(\"What is the Equity in 2022?\")"
   ]
  },
  {
   "cell_type": "markdown",
   "id": "48761130",
   "metadata": {},
   "source": [
    "## Check the agent setup"
   ]
  },
  {
   "cell_type": "code",
   "execution_count": null,
   "id": "022ae3a7",
   "metadata": {},
   "outputs": [],
   "source": [
    "stat_agent.prep_outputs"
   ]
  },
  {
   "cell_type": "code",
   "execution_count": null,
   "id": "cfb2f69a",
   "metadata": {},
   "outputs": [],
   "source": [
    "stat_agent.parse_file"
   ]
  },
  {
   "cell_type": "code",
   "execution_count": null,
   "id": "8a0b132a",
   "metadata": {},
   "outputs": [],
   "source": [
    "stat_agent.agent.llm_chain.prompt"
   ]
  },
  {
   "cell_type": "code",
   "execution_count": null,
   "id": "ea5eceef",
   "metadata": {},
   "outputs": [],
   "source": [
    "stat_agent.verbose"
   ]
  },
  {
   "cell_type": "markdown",
   "id": "f216ed35",
   "metadata": {},
   "source": [
    "## Set up tools"
   ]
  },
  {
   "cell_type": "code",
   "execution_count": 14,
   "id": "eecaaf01",
   "metadata": {},
   "outputs": [],
   "source": [
    "from langchain import SerpAPIWrapper\n",
    "from langchain.utilities import PythonREPL\n",
    "from langchain.agents import Tool"
   ]
  },
  {
   "cell_type": "code",
   "execution_count": 27,
   "id": "2f163a79",
   "metadata": {},
   "outputs": [],
   "source": [
    "search = SerpAPIWrapper()\n",
    "python_repl = PythonREPL()\n",
    "tools = [\n",
    "    Tool(\n",
    "        name = \"Search\",\n",
    "        func = search.run,\n",
    "        description = \"useful for when you need to answer questions about current events. when I tell you 'use search', then use \\\n",
    "        this tool.\"\n",
    "    ),\n",
    "    Tool(\n",
    "        name='Python',\n",
    "        func=python_repl.run,\n",
    "        description=\"useful for when you need to run python code to find the answer. When I tell you to 'use python', then use \\\n",
    "        this tool\"\n",
    "    ),\n",
    "    Tool(\n",
    "        name=\"Price history tool\",\n",
    "        func=price_agent,\n",
    "        description=\"Useful when you need to access historical price data to answer questions about the stock price.\"\n",
    "    ), \n",
    "]"
   ]
  },
  {
   "cell_type": "markdown",
   "id": "8ea35e1e",
   "metadata": {},
   "source": [
    "## Set up Memory"
   ]
  },
  {
   "cell_type": "code",
   "execution_count": 24,
   "id": "08314b7e",
   "metadata": {},
   "outputs": [],
   "source": [
    "from langchain.chains.conversation.memory import ConversationBufferWindowMemory\n",
    "\n",
    "memory = ConversationBufferWindowMemory(\n",
    "    memory_key=\"chat_history\",  # important to align with agent prompt (below)\n",
    "    k=5,\n",
    "    return_messages=True\n",
    ")"
   ]
  },
  {
   "cell_type": "markdown",
   "id": "6a6cfe4d",
   "metadata": {},
   "source": [
    "## Intialize agent"
   ]
  },
  {
   "cell_type": "code",
   "execution_count": 25,
   "id": "fa15ccc7",
   "metadata": {},
   "outputs": [],
   "source": [
    "from langchain.agents import initialize_agent\n",
    "from langchain.agents import AgentType"
   ]
  },
  {
   "cell_type": "code",
   "execution_count": 26,
   "id": "f42c07f9",
   "metadata": {},
   "outputs": [
    {
     "ename": "AttributeError",
     "evalue": "'list' object has no attribute 'is_single_input'",
     "output_type": "error",
     "traceback": [
      "\u001b[1;31m---------------------------------------------------------------------------\u001b[0m",
      "\u001b[1;31mAttributeError\u001b[0m                            Traceback (most recent call last)",
      "Input \u001b[1;32mIn [26]\u001b[0m, in \u001b[0;36m<cell line: 1>\u001b[1;34m()\u001b[0m\n\u001b[1;32m----> 1\u001b[0m agent \u001b[38;5;241m=\u001b[39m \u001b[43minitialize_agent\u001b[49m\u001b[43m(\u001b[49m\n\u001b[0;32m      2\u001b[0m \u001b[43m    \u001b[49m\u001b[43magent\u001b[49m\u001b[38;5;241;43m=\u001b[39;49m\u001b[38;5;124;43m\"\u001b[39;49m\u001b[38;5;124;43mchat-conversational-react-description\u001b[39;49m\u001b[38;5;124;43m\"\u001b[39;49m\u001b[43m,\u001b[49m\n\u001b[0;32m      3\u001b[0m \u001b[43m    \u001b[49m\u001b[43mtools\u001b[49m\u001b[38;5;241;43m=\u001b[39;49m\u001b[43mtools\u001b[49m\u001b[43m,\u001b[49m\n\u001b[0;32m      4\u001b[0m \u001b[43m    \u001b[49m\u001b[43mllm\u001b[49m\u001b[38;5;241;43m=\u001b[39;49m\u001b[43mllm\u001b[49m\u001b[43m,\u001b[49m\n\u001b[0;32m      5\u001b[0m \u001b[43m    \u001b[49m\u001b[43mverbose\u001b[49m\u001b[38;5;241;43m=\u001b[39;49m\u001b[38;5;28;43;01mTrue\u001b[39;49;00m\u001b[43m,\u001b[49m\n\u001b[0;32m      6\u001b[0m \u001b[43m    \u001b[49m\u001b[43mmax_iterations\u001b[49m\u001b[38;5;241;43m=\u001b[39;49m\u001b[38;5;241;43m5\u001b[39;49m\u001b[43m,\u001b[49m\n\u001b[0;32m      7\u001b[0m \u001b[43m    \u001b[49m\u001b[43mearly_stopping_method\u001b[49m\u001b[38;5;241;43m=\u001b[39;49m\u001b[38;5;124;43m'\u001b[39;49m\u001b[38;5;124;43mgenerate\u001b[39;49m\u001b[38;5;124;43m'\u001b[39;49m\u001b[43m,\u001b[49m\n\u001b[0;32m      8\u001b[0m \u001b[43m    \u001b[49m\u001b[43mmemory\u001b[49m\u001b[38;5;241;43m=\u001b[39;49m\u001b[43mmemory\u001b[49m\n\u001b[0;32m      9\u001b[0m \u001b[43m    \u001b[49m\u001b[43m)\u001b[49m\n",
      "File \u001b[1;32m~\\anaconda3\\lib\\site-packages\\langchain\\agents\\initialize.py:52\u001b[0m, in \u001b[0;36minitialize_agent\u001b[1;34m(tools, llm, agent, callback_manager, agent_path, agent_kwargs, **kwargs)\u001b[0m\n\u001b[0;32m     50\u001b[0m     agent_cls \u001b[38;5;241m=\u001b[39m AGENT_TO_CLASS[agent]\n\u001b[0;32m     51\u001b[0m     agent_kwargs \u001b[38;5;241m=\u001b[39m agent_kwargs \u001b[38;5;129;01mor\u001b[39;00m {}\n\u001b[1;32m---> 52\u001b[0m     agent_obj \u001b[38;5;241m=\u001b[39m agent_cls\u001b[38;5;241m.\u001b[39mfrom_llm_and_tools(\n\u001b[0;32m     53\u001b[0m         llm, tools, callback_manager\u001b[38;5;241m=\u001b[39mcallback_manager, \u001b[38;5;241m*\u001b[39m\u001b[38;5;241m*\u001b[39magent_kwargs\n\u001b[0;32m     54\u001b[0m     )\n\u001b[0;32m     55\u001b[0m \u001b[38;5;28;01melif\u001b[39;00m agent_path \u001b[38;5;129;01mis\u001b[39;00m \u001b[38;5;129;01mnot\u001b[39;00m \u001b[38;5;28;01mNone\u001b[39;00m:\n\u001b[0;32m     56\u001b[0m     agent_obj \u001b[38;5;241m=\u001b[39m load_agent(\n\u001b[0;32m     57\u001b[0m         agent_path, llm\u001b[38;5;241m=\u001b[39mllm, tools\u001b[38;5;241m=\u001b[39mtools, callback_manager\u001b[38;5;241m=\u001b[39mcallback_manager\n\u001b[0;32m     58\u001b[0m     )\n",
      "File \u001b[1;32m~\\anaconda3\\lib\\site-packages\\langchain\\agents\\conversational_chat\\base.py:114\u001b[0m, in \u001b[0;36mConversationalChatAgent.from_llm_and_tools\u001b[1;34m(cls, llm, tools, callback_manager, output_parser, system_message, human_message, input_variables, **kwargs)\u001b[0m\n\u001b[0;32m    101\u001b[0m \u001b[38;5;129m@classmethod\u001b[39m\n\u001b[0;32m    102\u001b[0m \u001b[38;5;28;01mdef\u001b[39;00m \u001b[38;5;21mfrom_llm_and_tools\u001b[39m(\n\u001b[0;32m    103\u001b[0m     \u001b[38;5;28mcls\u001b[39m,\n\u001b[1;32m   (...)\u001b[0m\n\u001b[0;32m    111\u001b[0m     \u001b[38;5;241m*\u001b[39m\u001b[38;5;241m*\u001b[39mkwargs: Any,\n\u001b[0;32m    112\u001b[0m ) \u001b[38;5;241m-\u001b[39m\u001b[38;5;241m>\u001b[39m Agent:\n\u001b[0;32m    113\u001b[0m \u001b[38;5;250m    \u001b[39m\u001b[38;5;124;03m\"\"\"Construct an agent from an LLM and tools.\"\"\"\u001b[39;00m\n\u001b[1;32m--> 114\u001b[0m     \u001b[38;5;28;43mcls\u001b[39;49m\u001b[38;5;241;43m.\u001b[39;49m\u001b[43m_validate_tools\u001b[49m\u001b[43m(\u001b[49m\u001b[43mtools\u001b[49m\u001b[43m)\u001b[49m\n\u001b[0;32m    115\u001b[0m     _output_parser \u001b[38;5;241m=\u001b[39m output_parser \u001b[38;5;129;01mor\u001b[39;00m \u001b[38;5;28mcls\u001b[39m\u001b[38;5;241m.\u001b[39m_get_default_output_parser()\n\u001b[0;32m    116\u001b[0m     prompt \u001b[38;5;241m=\u001b[39m \u001b[38;5;28mcls\u001b[39m\u001b[38;5;241m.\u001b[39mcreate_prompt(\n\u001b[0;32m    117\u001b[0m         tools,\n\u001b[0;32m    118\u001b[0m         system_message\u001b[38;5;241m=\u001b[39msystem_message,\n\u001b[1;32m   (...)\u001b[0m\n\u001b[0;32m    121\u001b[0m         output_parser\u001b[38;5;241m=\u001b[39m_output_parser,\n\u001b[0;32m    122\u001b[0m     )\n",
      "File \u001b[1;32m~\\anaconda3\\lib\\site-packages\\langchain\\agents\\agent.py:501\u001b[0m, in \u001b[0;36mAgent._validate_tools\u001b[1;34m(cls, tools)\u001b[0m\n\u001b[0;32m    499\u001b[0m \u001b[38;5;250m\u001b[39m\u001b[38;5;124;03m\"\"\"Validate that appropriate tools are passed in.\"\"\"\u001b[39;00m\n\u001b[0;32m    500\u001b[0m \u001b[38;5;28;01mfor\u001b[39;00m tool \u001b[38;5;129;01min\u001b[39;00m tools:\n\u001b[1;32m--> 501\u001b[0m     \u001b[38;5;28;01mif\u001b[39;00m \u001b[38;5;129;01mnot\u001b[39;00m \u001b[43mtool\u001b[49m\u001b[38;5;241;43m.\u001b[39;49m\u001b[43mis_single_input\u001b[49m:\n\u001b[0;32m    502\u001b[0m         \u001b[38;5;28;01mraise\u001b[39;00m \u001b[38;5;167;01mValueError\u001b[39;00m(\n\u001b[0;32m    503\u001b[0m             \u001b[38;5;124mf\u001b[39m\u001b[38;5;124m\"\u001b[39m\u001b[38;5;132;01m{\u001b[39;00m\u001b[38;5;28mcls\u001b[39m\u001b[38;5;241m.\u001b[39m\u001b[38;5;18m__name__\u001b[39m\u001b[38;5;132;01m}\u001b[39;00m\u001b[38;5;124m does not support multi-input tool \u001b[39m\u001b[38;5;132;01m{\u001b[39;00mtool\u001b[38;5;241m.\u001b[39mname\u001b[38;5;132;01m}\u001b[39;00m\u001b[38;5;124m.\u001b[39m\u001b[38;5;124m\"\u001b[39m\n\u001b[0;32m    504\u001b[0m         )\n",
      "\u001b[1;31mAttributeError\u001b[0m: 'list' object has no attribute 'is_single_input'"
     ]
    }
   ],
   "source": [
    "agent = initialize_agent(\n",
    "    agent=\"chat-conversational-react-description\",\n",
    "    tools=tools,\n",
    "    llm=llm,\n",
    "    verbose=True,\n",
    "    max_iterations=5,\n",
    "    early_stopping_method='generate',\n",
    "    memory=memory\n",
    "    )"
   ]
  },
  {
   "cell_type": "code",
   "execution_count": null,
   "id": "f6bb48b9",
   "metadata": {},
   "outputs": [],
   "source": [
    "agent.memory"
   ]
  },
  {
   "cell_type": "code",
   "execution_count": null,
   "id": "1d3e3c63",
   "metadata": {},
   "outputs": [],
   "source": [
    "agent.run(\"Please find the AMD's price movement and News. Please make sure the date is matched.\")"
   ]
  },
  {
   "cell_type": "code",
   "execution_count": null,
   "id": "52c5e536",
   "metadata": {},
   "outputs": [],
   "source": [
    "agent.agent.llm_chain"
   ]
  },
  {
   "cell_type": "code",
   "execution_count": null,
   "id": "bcc8374b",
   "metadata": {},
   "outputs": [],
   "source": [
    "agent.agent.llm_chain.prompt"
   ]
  },
  {
   "cell_type": "markdown",
   "id": "d442e165",
   "metadata": {},
   "source": [
    "## Work on this output parser to see if the error will fix\n",
    "\n",
    "`agent.agent.llm_chain.prompt.output_parser`\n",
    "\n"
   ]
  },
  {
   "cell_type": "code",
   "execution_count": null,
   "id": "7043d6e6",
   "metadata": {},
   "outputs": [],
   "source": [
    "agent.agent.llm_chain.prompt.output_parser"
   ]
  },
  {
   "cell_type": "code",
   "execution_count": null,
   "id": "5f7fb906",
   "metadata": {},
   "outputs": [],
   "source": [
    "for i in range(len(agent.agent.llm_chain.prompt.messages)):\n",
    "    try:\n",
    "        print(f\"{i+1}: {agent.agent.llm_chain.prompt.messages[i].prompt.template}\")\n",
    "    except:\n",
    "        print(f\"{i+1}: {agent.agent.llm_chain.prompt.messages[i]}\")"
   ]
  },
  {
   "cell_type": "code",
   "execution_count": null,
   "id": "003f8183",
   "metadata": {},
   "outputs": [],
   "source": []
  }
 ],
 "metadata": {
  "kernelspec": {
   "display_name": "Python 3 (ipykernel)",
   "language": "python",
   "name": "python3"
  },
  "language_info": {
   "codemirror_mode": {
    "name": "ipython",
    "version": 3
   },
   "file_extension": ".py",
   "mimetype": "text/x-python",
   "name": "python",
   "nbconvert_exporter": "python",
   "pygments_lexer": "ipython3",
   "version": "3.9.12"
  }
 },
 "nbformat": 4,
 "nbformat_minor": 5
}
