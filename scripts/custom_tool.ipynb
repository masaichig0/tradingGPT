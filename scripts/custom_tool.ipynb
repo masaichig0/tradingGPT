{
 "cells": [
  {
   "cell_type": "code",
   "execution_count": 1,
   "id": "d58aa95e",
   "metadata": {},
   "outputs": [],
   "source": [
    "from langchain.agents import tool\n",
    "\n",
    "@tool(\"search\", return_direct=True)\n",
    "def search_api(query: str) -> str:\n",
    "    \"\"\"Searches the API for the query.\"\"\"\n",
    "    return \"Results\""
   ]
  },
  {
   "cell_type": "code",
   "execution_count": 4,
   "id": "00ddb9d6",
   "metadata": {},
   "outputs": [],
   "source": [
    "from langchain.agents import Tool"
   ]
  },
  {
   "cell_type": "code",
   "execution_count": 5,
   "id": "6c6365f1",
   "metadata": {},
   "outputs": [],
   "source": [
    "from langchain import SerpAPIWrapper\n",
    "search = SerpAPIWrapper()\n",
    "\n",
    "tool = [\n",
    "    Tool(name='Search',\n",
    "        func=search.run,\n",
    "        description=\"Searches the API for the query.\")\n",
    "]"
   ]
  },
  {
   "cell_type": "code",
   "execution_count": 22,
   "id": "9235999a",
   "metadata": {},
   "outputs": [],
   "source": [
    "from langchain.utilities import PythonREPL\n",
    "python_repl = PythonREPL()\n",
    "\n",
    "tools = [\n",
    "    Tool(name=\"Python code writer\", \n",
    "        func=python_repl.run,\n",
    "        description=\"useful when you need to write python code to answer the question.\",\n",
    "        return_direct=True),\n",
    "    Tool(name='Search',\n",
    "        func=search.run,\n",
    "        description=\"Searches the API for the query.\")\n",
    "]"
   ]
  },
  {
   "cell_type": "code",
   "execution_count": 29,
   "id": "9edfbb2e",
   "metadata": {},
   "outputs": [],
   "source": [
    "from langchain.agents.agent_toolkits.pandas.base import create_pandas_dataframe_agent\n",
    "from langchain.chat_models import ChatOpenAI\n",
    "\n",
    "llm = ChatOpenAI(temperature=1)"
   ]
  },
  {
   "cell_type": "code",
   "execution_count": 30,
   "id": "a8b7f63b",
   "metadata": {},
   "outputs": [
    {
     "name": "stderr",
     "output_type": "stream",
     "text": [
      "C:\\Users\\Masa\\anaconda3\\lib\\site-packages\\yahoo_fin\\stock_info.py:336: FutureWarning: The frame.append method is deprecated and will be removed from pandas in a future version. Use pandas.concat instead.\n",
      "  table = table.append(elt)\n",
      "C:\\Users\\Masa\\anaconda3\\lib\\site-packages\\yahoo_fin\\stock_info.py:336: FutureWarning: The frame.append method is deprecated and will be removed from pandas in a future version. Use pandas.concat instead.\n",
      "  table = table.append(elt)\n",
      "C:\\Users\\Masa\\anaconda3\\lib\\site-packages\\yahoo_fin\\stock_info.py:336: FutureWarning: The frame.append method is deprecated and will be removed from pandas in a future version. Use pandas.concat instead.\n",
      "  table = table.append(elt)\n",
      "C:\\Users\\Masa\\anaconda3\\lib\\site-packages\\yahoo_fin\\stock_info.py:336: FutureWarning: The frame.append method is deprecated and will be removed from pandas in a future version. Use pandas.concat instead.\n",
      "  table = table.append(elt)\n",
      "C:\\Users\\Masa\\anaconda3\\lib\\site-packages\\yahoo_fin\\stock_info.py:336: FutureWarning: The frame.append method is deprecated and will be removed from pandas in a future version. Use pandas.concat instead.\n",
      "  table = table.append(elt)\n",
      "C:\\Users\\Masa\\anaconda3\\lib\\site-packages\\yahoo_fin\\stock_info.py:336: FutureWarning: The frame.append method is deprecated and will be removed from pandas in a future version. Use pandas.concat instead.\n",
      "  table = table.append(elt)\n",
      "C:\\Users\\Masa\\anaconda3\\lib\\site-packages\\yahoo_fin\\stock_info.py:336: FutureWarning: The frame.append method is deprecated and will be removed from pandas in a future version. Use pandas.concat instead.\n",
      "  table = table.append(elt)\n"
     ]
    }
   ],
   "source": [
    "from financial_data import FinancialDataYahoo\n",
    "\n",
    "amd = FinancialDataYahoo('AMD')\n",
    "df = amd.stats\n",
    "agent = create_pandas_dataframe_agent(llm, df, max_iterations=5, verbose=True)"
   ]
  },
  {
   "cell_type": "code",
   "execution_count": 31,
   "id": "6fa99cfc",
   "metadata": {},
   "outputs": [
    {
     "name": "stdout",
     "output_type": "stream",
     "text": [
      "\n",
      "\n",
      "\u001b[1m> Entering new AgentExecutor chain...\u001b[0m\n",
      "\u001b[32;1m\u001b[1;3mThought: We need to see the entire dataframe to answer this question.\n",
      "Action: python_repl_ast\n",
      "Action Input: df\u001b[0m\n",
      "Observation: \u001b[36;1m\u001b[1;3m                                         Attribute         Value\n",
      "0                                Beta (5Y Monthly)          1.94\n",
      "1                                 52-Week Change 3        -0.52%\n",
      "2                          S&P500 52-Week Change 3         0.34%\n",
      "3                                   52 Week High 3        109.57\n",
      "4                                    52 Week Low 3         54.57\n",
      "5                          50-Day Moving Average 3         88.67\n",
      "6                         200-Day Moving Average 3         78.83\n",
      "7                              Avg Vol (3 month) 3        60.59M\n",
      "8                               Avg Vol (10 day) 3        46.37M\n",
      "9                             Shares Outstanding 5         1.61B\n",
      "10                    Implied Shares Outstanding 6           NaN\n",
      "11                                         Float 8          1.6B\n",
      "12                            % Held by Insiders 1         0.45%\n",
      "13                        % Held by Institutions 1        73.25%\n",
      "14                   Shares Short (Apr 13, 2023) 4        29.84M\n",
      "15                    Short Ratio (Apr 13, 2023) 4          0.45\n",
      "16               Short % of Float (Apr 13, 2023) 4         1.86%\n",
      "17  Short % of Shares Outstanding (Apr 13, 2023) 4         1.85%\n",
      "18       Shares Short (prior month Mar 14, 2023) 4        34.98M\n",
      "19                  Forward Annual Dividend Rate 4           NaN\n",
      "20                 Forward Annual Dividend Yield 4           NaN\n",
      "21                 Trailing Annual Dividend Rate 3          0.00\n",
      "22                Trailing Annual Dividend Yield 3         0.00%\n",
      "23                 5 Year Average Dividend Yield 4           NaN\n",
      "24                                  Payout Ratio 4         0.00%\n",
      "25                                 Dividend Date 3           NaN\n",
      "26                              Ex-Dividend Date 4  Apr 26, 1995\n",
      "27                             Last Split Factor 2           2:1\n",
      "28                               Last Split Date 3  Aug 21, 2000\n",
      "29                                Fiscal Year Ends  Dec 30, 2022\n",
      "30                       Most Recent Quarter (mrq)  Dec 30, 2022\n",
      "31                                   Profit Margin         5.59%\n",
      "32                          Operating Margin (ttm)         5.36%\n",
      "33                          Return on Assets (ttm)         1.98%\n",
      "34                          Return on Equity (ttm)         4.24%\n",
      "35                                   Revenue (ttm)         23.6B\n",
      "36                         Revenue Per Share (ttm)         15.12\n",
      "37                  Quarterly Revenue Growth (yoy)        16.00%\n",
      "38                              Gross Profit (ttm)        12.05B\n",
      "39                                          EBITDA          4.7B\n",
      "40                  Net Income Avi to Common (ttm)         1.32B\n",
      "41                               Diluted EPS (ttm)          0.86\n",
      "42                 Quarterly Earnings Growth (yoy)       -97.80%\n",
      "43                                Total Cash (mrq)         5.86B\n",
      "44                      Total Cash Per Share (mrq)          3.63\n",
      "45                                Total Debt (mrq)         2.96B\n",
      "46                         Total Debt/Equity (mrq)          5.40\n",
      "47                             Current Ratio (mrq)          2.36\n",
      "48                      Book Value Per Share (mrq)         33.96\n",
      "49                       Operating Cash Flow (ttm)         3.56B\n",
      "50                    Levered Free Cash Flow (ttm)         3.79B\u001b[0m\n",
      "Thought:\u001b[32;1m\u001b[1;3mThe dataframe has various attributes and corresponding values.\n",
      "Final Answer: The dataframe contains various attributes and corresponding values.\u001b[0m\n",
      "\n",
      "\u001b[1m> Finished chain.\u001b[0m\n"
     ]
    },
    {
     "data": {
      "text/plain": [
       "'The dataframe contains various attributes and corresponding values.'"
      ]
     },
     "execution_count": 31,
     "metadata": {},
     "output_type": "execute_result"
    }
   ],
   "source": [
    "agent.run(\"what data in the dataframe?\")"
   ]
  },
  {
   "cell_type": "code",
   "execution_count": null,
   "id": "b54c9dba",
   "metadata": {},
   "outputs": [],
   "source": []
  }
 ],
 "metadata": {
  "kernelspec": {
   "display_name": "Python 3 (ipykernel)",
   "language": "python",
   "name": "python3"
  },
  "language_info": {
   "codemirror_mode": {
    "name": "ipython",
    "version": 3
   },
   "file_extension": ".py",
   "mimetype": "text/x-python",
   "name": "python",
   "nbconvert_exporter": "python",
   "pygments_lexer": "ipython3",
   "version": "3.9.12"
  }
 },
 "nbformat": 4,
 "nbformat_minor": 5
}
